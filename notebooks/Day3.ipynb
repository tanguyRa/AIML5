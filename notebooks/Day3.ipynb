{
 "cells": [
  {
   "cell_type": "markdown",
   "metadata": {},
   "source": [
    "# Day 3:\n",
    "\n",
    "## Outline of the Datasets we'll use today:\n",
    "1. Heart disease\n",
    "    * decision tree\n",
    "2. Diamonds\n",
    "    * Make a brief explanatory analysis.\n",
    "    * Prepare the data in order to perform a linear regression on the variable \"price\". In particular we will perform label encoding or one-hot encoding on categorical variables, according to their nature.\n",
    "    * Understand how Scikit-Learn implements linear regression. Perform this algorithm and study its performance.\n",
    "    * Understand how the k-NN regressor works, in theory and in practice with Scikit-Learn. How is it different from the k-NN classifier? Use its scikit learn implementation to study its performances.\n",
    "    * Understand how the decision tree regressor works, in theory and in practice with Scikit-Learn. Study its scikit learn implementation performance.\n",
    "    * Compare the performances of all ofthe previous algorithms."
   ]
  },
  {
   "cell_type": "markdown",
   "metadata": {},
   "source": [
    "# Heart Disease"
   ]
  },
  {
   "cell_type": "code",
   "execution_count": null,
   "metadata": {},
   "outputs": [],
   "source": [
    "# Data manipulation:\n",
    "import pandas as pd\n",
    "\n",
    "# scikit learn ML models\n",
    "# preprocessing\n",
    "from sklearn.model_selection import train_test_split\n",
    "from sklearn.pipeline import Pipeline\n",
    "from sklearn.decomposition import PCA\n",
    "from sklearn.impute import SimpleImputer\n",
    "from sklearn.preprocessing import StandardScaler, LabelEncoder\n",
    "# Models\n",
    "from sklearn.tree import DecisionTreeClassifier, plot_tree\n",
    "# cross validation\n",
    "from sklearn.model_selection import GridSearchCV\n",
    "from sklearn.metrics import plot_roc_curve"
   ]
  },
  {
   "cell_type": "markdown",
   "metadata": {},
   "source": [
    "## Load and prepare data"
   ]
  },
  {
   "cell_type": "code",
   "execution_count": null,
   "metadata": {
    "scrolled": true
   },
   "outputs": [],
   "source": [
    "## Use the same method as Day1 to prepare X and y for the heart dataset\n",
    "\n",
    "X_train, X_test, y_train, y_test = train_test_split(X, y, test_size=0.3, random_state=7)"
   ]
  },
  {
   "cell_type": "markdown",
   "metadata": {},
   "source": [
    "## [Decision tree classifier](https://scikit-learn.org/stable/modules/generated/sklearn.tree.DecisionTreeClassifier.html)\n",
    "\n",
    "### Research:\n",
    "Research online how this algorithm works and how it is implemented in scikit learn. Do not trust blindly what I tell you, double check !\n",
    "\n",
    "### Practice\n",
    "Find and test out at least 4 relevant decision tree properties from the [documentation](https://scikit-learn.org/stable/modules/generated/sklearn.tree.DecisionTreeClassifier.html)."
   ]
  },
  {
   "cell_type": "code",
   "execution_count": null,
   "metadata": {},
   "outputs": [],
   "source": [
    "pipe_ex = Pipeline([\n",
    "    ('imputer', SimpleImputer()),\n",
    "    ('scaler', StandardScaler()),\n",
    "    ('pca', PCA()),\n",
    "    ('classifier', )\n",
    "])\n",
    "\n",
    "params_ex = {\n",
    "    'imputer__strategy': ['mean', 'median'],\n",
    "    'scaler__with_mean': [True, False],\n",
    "    'scaler__with_std': [True, False],\n",
    "    'pca__n_components': [5, 11, 12, 13],\n",
    "    'classifier__': [],\n",
    "    'classifier__': [],\n",
    "    'classifier__': [],\n",
    "    'classifier__': [],\n",
    "    'classifier__': []\n",
    "}\n",
    "\n",
    "gridsearch_ex = GridSearchCV(pipe_ex, knn_params_ex, cv=5, verbose=1, n_jobs=-1)\n",
    "gridsearch_ex_result = gridsearch_ex.fit(X_train, y_train)\n",
    "\n",
    "display(gridsearch_ex_result.best_estimator_)\n",
    "display('Best model accuracy over previously unseen data: {}'.format(\n",
    "    gridsearch_ex_result.score(X_test, y_test)\n",
    "))\n",
    "\n",
    "plot_roc_curve(gridsearch_ex, X_test, y_test)"
   ]
  },
  {
   "cell_type": "code",
   "execution_count": null,
   "metadata": {},
   "outputs": [],
   "source": [
    "plot = plot_tree(gridsearch_ex_result.best_estimator_['classifier'], filled=True, rotate=True)"
   ]
  },
  {
   "cell_type": "markdown",
   "metadata": {},
   "source": [
    "# Diamonds"
   ]
  },
  {
   "cell_type": "markdown",
   "metadata": {},
   "source": [
    "## Load the data"
   ]
  },
  {
   "cell_type": "code",
   "execution_count": null,
   "metadata": {},
   "outputs": [],
   "source": [
    "data = pd.read_csv('../data/diamonds.csv')"
   ]
  },
  {
   "cell_type": "markdown",
   "metadata": {},
   "source": [
    "## Explore the data"
   ]
  },
  {
   "cell_type": "code",
   "execution_count": null,
   "metadata": {},
   "outputs": [],
   "source": [
    "data"
   ]
  },
  {
   "cell_type": "markdown",
   "metadata": {},
   "source": [
    "## Prepare the data"
   ]
  },
  {
   "cell_type": "code",
   "execution_count": null,
   "metadata": {},
   "outputs": [],
   "source": [
    "## prepare the report"
   ]
  },
  {
   "cell_type": "code",
   "execution_count": null,
   "metadata": {},
   "outputs": [],
   "source": [
    "## explore the widget"
   ]
  },
  {
   "cell_type": "markdown",
   "metadata": {},
   "source": [
    "## Experiment with the [Linear regression](https://scikit-learn.org/stable/modules/generated/sklearn.linear_model.LinearRegression.html)\n",
    "### Research:\n",
    "Research online how this algorithm works and how it is implemented in scikit learn.\n",
    "\n",
    "### Practice\n",
    "Identify and test out the two meaningful properties that might impact the accuracy."
   ]
  },
  {
   "cell_type": "code",
   "execution_count": null,
   "metadata": {},
   "outputs": [],
   "source": [
    "pipe_ex = Pipeline([\n",
    "    ('imputer', SimpleImputer()),\n",
    "    ('scaler', StandardScaler()),\n",
    "    ('pca', PCA()),\n",
    "    ('classifier', )\n",
    "])\n",
    "\n",
    "params_ex = {\n",
    "    'imputer__strategy': ['mean', 'median'],\n",
    "    'scaler__with_mean': [True, False],\n",
    "    'scaler__with_std': [True, False],\n",
    "    'pca__n_components': [5, 11, 12, 13],\n",
    "    'classifier__': [],\n",
    "    'classifier__': []\n",
    "}\n",
    "\n",
    "gridsearch_ex = GridSearchCV(pipe_ex, knn_params_ex, cv=5, verbose=1, n_jobs=-1)\n",
    "gridsearch_ex_result = gridsearch_ex.fit(X_train, y_train)\n",
    "\n",
    "display(gridsearch_ex_result.best_estimator_)\n",
    "display('Best model accuracy over previously unseen data: {}'.format(\n",
    "    gridsearch_ex_result.score(X_test, y_test)\n",
    "))\n",
    "\n",
    "plot_roc_curve(gridsearch_ex, X_test, y_test)"
   ]
  },
  {
   "cell_type": "markdown",
   "metadata": {},
   "source": [
    "## Experiment with the [k-NN Regressor](https://scikit-learn.org/stable/modules/generated/sklearn.neighbors.KNeighborsRegressor.html)\n",
    "\n",
    "### Research:\n",
    "Research online how this algorithm works and how it is implemented in scikit learn. How does it differ from the k-NN classifier?\n",
    "\n",
    "### Practice\n",
    "Identify and experiment with at least 4 meaningful properties that might impact the model accuracy. Test out a few of the different possible values for each property you selected."
   ]
  },
  {
   "cell_type": "code",
   "execution_count": null,
   "metadata": {},
   "outputs": [],
   "source": [
    "pipe_ex = Pipeline([\n",
    "    ('imputer', SimpleImputer()),\n",
    "    ('scaler', StandardScaler()),\n",
    "    ('pca', PCA()),\n",
    "    ('classifier', )\n",
    "])\n",
    "\n",
    "params_ex = {\n",
    "    'imputer__strategy': ['mean', 'median'],\n",
    "    'scaler__with_mean': [True, False],\n",
    "    'scaler__with_std': [True, False],\n",
    "    'pca__n_components': [5, 11, 12, 13],\n",
    "    'classifier__': [],\n",
    "    'classifier__': []\n",
    "}\n",
    "\n",
    "gridsearch_ex = GridSearchCV(pipe_ex, knn_params_ex, cv=5, verbose=1, n_jobs=-1)\n",
    "gridsearch_ex_result = gridsearch_ex.fit(X_train, y_train)\n",
    "\n",
    "display(gridsearch_ex_result.best_estimator_)\n",
    "display('Best model accuracy over previously unseen data: {}'.format(\n",
    "    gridsearch_ex_result.score(X_test, y_test)\n",
    "))\n",
    "\n",
    "plot_roc_curve(gridsearch_ex, X_test, y_test)"
   ]
  },
  {
   "cell_type": "markdown",
   "metadata": {},
   "source": [
    "## [Decision tree regressor](https://scikit-learn.org/stable/modules/generated/sklearn.tree.DecisionTreeRegressor.html)\n",
    "\n",
    "### Research:\n",
    "Research online how this algorithm works and how it is implemented in scikit learn. How does it differ from the classifier?\n",
    "\n",
    "### Practice\n",
    "Find and test out at least 4 relevant decision tree properties from the [documentation](https://scikit-learn.org/stable/modules/generated/sklearn.tree.DecisionTreeClassifier.html). Use your previous experimentation to select 2 different parameters that might have a stronger impact."
   ]
  },
  {
   "cell_type": "code",
   "execution_count": null,
   "metadata": {
    "scrolled": false
   },
   "outputs": [],
   "source": [
    "pipe_ex = Pipeline([\n",
    "    ('imputer', SimpleImputer()),\n",
    "    ('scaler', StandardScaler()),\n",
    "    ('pca', PCA()),\n",
    "    ('classifier', )\n",
    "])\n",
    "\n",
    "params_ex = {\n",
    "    'imputer__strategy': ['mean', 'median'],\n",
    "    'scaler__with_mean': [True, False],\n",
    "    'scaler__with_std': [True, False],\n",
    "    'pca__n_components': [5, 11, 12, 13],\n",
    "    'classifier__': [],\n",
    "    'classifier__': [],\n",
    "    'classifier__': [],\n",
    "    'classifier__': [],\n",
    "    'classifier__': []\n",
    "}\n",
    "\n",
    "gridsearch_ex = GridSearchCV(pipe_ex, knn_params_ex, cv=5, verbose=1, n_jobs=-1)\n",
    "gridsearch_ex_result = gridsearch_ex.fit(X_train, y_train)\n",
    "\n",
    "display(gridsearch_ex_result.best_estimator_)\n",
    "display('Best model accuracy over previously unseen data: {}'.format(\n",
    "    gridsearch_ex_result.score(X_test, y_test)\n",
    "))\n",
    "\n",
    "plot_roc_curve(gridsearch_ex, X_test, y_test)"
   ]
  },
  {
   "cell_type": "markdown",
   "metadata": {},
   "source": [
    "# Diamonds cheat sheet:"
   ]
  },
  {
   "cell_type": "markdown",
   "metadata": {},
   "source": [
    "1. Make a brief explanatory analysis.\n",
    "    * identify and understand the non numerical values\n",
    "    * identifiy correlated data => might want to reduce the number of dimensions\n",
    "    * identify missing values\n",
    "2. Prepare the data in order to perform a linear regression on the variable \"price\". In particular we will perform label encoding or one-hot encoding on categorical variables, according to their nature.\n",
    "    * X:\n",
    "         * one hot carat\n",
    "         * one hot color\n",
    "         * remove 'Unnamed: 0'\n",
    "         * remove 'price'\n",
    "     * y:\n",
    "         * only keep price column\n",
    "3. Understand how Scikit-Learn implements linear regression. Perform this algorithm and study its performance.\n",
    "    * fit_intercept and normalise are the only relevant features to test out here\n",
    "    * fit_intercept requires centered data if False. This is a preprocessing step, did you do it in order to increase your accuracy ?\n",
    "4. Understand how the k-NN regressor works, in theory and in practice with Scikit-Learn. How is it different from the k-NN classifier? Use its scikit learn implementation to study its performances.\n",
    "    * metric is probably one of the most important features to experiment with. Try out the different distance functions available\n",
    "    * algorithm might impact your metric choices. Test out multiple implementations to experiment with all the possibilities\n",
    "    * n_neighbors\n",
    "    * weights\n",
    "5. Understand how the decision tree regressor works, in theory and in practice with Scikit-Learn. Study its scikit learn implementation performance.\n",
    "    * criterion\n",
    "    * max_features\n",
    "    * min_impurity_split\n",
    "    * max_depth\n",
    "6. Compare the performances of all ofthe previous algorithms.\n",
    "    * cross validation power !!!"
   ]
  },
  {
   "cell_type": "code",
   "execution_count": null,
   "metadata": {},
   "outputs": [],
   "source": []
  }
 ],
 "metadata": {
  "kernelspec": {
   "display_name": "Python 3",
   "language": "python",
   "name": "python3"
  },
  "language_info": {
   "codemirror_mode": {
    "name": "ipython",
    "version": 3
   },
   "file_extension": ".py",
   "mimetype": "text/x-python",
   "name": "python",
   "nbconvert_exporter": "python",
   "pygments_lexer": "ipython3",
   "version": "3.7.6"
  }
 },
 "nbformat": 4,
 "nbformat_minor": 4
}
