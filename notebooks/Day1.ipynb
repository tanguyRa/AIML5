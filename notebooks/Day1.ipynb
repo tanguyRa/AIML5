{
 "cells": [
  {
   "cell_type": "markdown",
   "metadata": {},
   "source": [
    "# About me\n",
    "![Flexper, innovation on demand](img/flexper_logo_large.jpg)\n",
    "\n",
    "My name is **Tanguy Racinet** and I currently work at **Flexper**, a technological accelerator for startups.\n",
    "\n",
    "### How to reach me\n",
    "**mail**: tanguy@flexper.fr\n",
    "\n",
    "**linkedin**: https://www.linkedin.com/in/tanguyracinet/\n",
    "\n",
    "### Examples of projects I worked on\n",
    " * Recommendation system for playlist generation in a streaming music platform \n",
    " * Car rentability and pricing over time in vehicle renting service\n",
    " * Pollution evolution in air traffic study for the DGAC"
   ]
  },
  {
   "cell_type": "markdown",
   "metadata": {},
   "source": [
    "# Topics covered in the course - what you should know about by the end\n",
    "1. Generalities about Machine Learning\n",
    "2. Classification algorithms\n",
    "3. Recommender systems\n",
    "4. Linear regression\n",
    "5. Decision trees\n",
    "\n",
    "# Course overview - what we're actually gonna do\n",
    "1. Day 1\n",
    "    * Q&A - Python libraries setup\n",
    "    * Practice 1 - Generalities about Machine Learning\n",
    "    * Practice 2 - Recommender systems\n",
    "    * Classification algorithms\n",
    "2. Day 2\n",
    "    * Linear regression\n",
    "3. Day 3\n",
    "    * Decision trees"
   ]
  },
  {
   "cell_type": "markdown",
   "metadata": {},
   "source": [
    "# ML generalities\n",
    "\n",
    "### Data splitting: Training, validation, test\n",
    "\n",
    "### Cross validation\n",
    "\n",
    "### Encoding\n",
    "\n",
    "### Missing value inputation\n",
    "\n",
    "### Confusion matrix\n",
    "\n",
    "### ROC curve"
   ]
  },
  {
   "cell_type": "markdown",
   "metadata": {},
   "source": [
    "# Heart Diseases\n",
    "## Importing required libraries"
   ]
  },
  {
   "cell_type": "code",
   "execution_count": null,
   "metadata": {},
   "outputs": [],
   "source": [
    "# Data manipulation:\n",
    "import pandas as pd\n",
    "\n",
    "# Data exploration:\n",
    "!pip install pandas_profiling\n",
    "import pandas_profiling as pp\n",
    "\n",
    "# Read/write utilities:\n",
    "import os"
   ]
  },
  {
   "cell_type": "markdown",
   "metadata": {},
   "source": [
    "## Loading the data"
   ]
  },
  {
   "cell_type": "code",
   "execution_count": null,
   "metadata": {},
   "outputs": [],
   "source": [
    "heart_disease_df = pd.read_csv('../data/HeartDiseaseUCI.csv')"
   ]
  },
  {
   "cell_type": "markdown",
   "metadata": {},
   "source": [
    "## Exploring the data\n",
    "### What you need to understand\n",
    "A very good tutorial on data exploration: [kaggle tutorial](https://www.kaggle.com/pavansanagapati/a-simple-tutorial-on-exploratory-data-analysis/notebook)\n",
    "\n",
    "### And the quick win version"
   ]
  },
  {
   "cell_type": "code",
   "execution_count": null,
   "metadata": {
    "scrolled": true
   },
   "outputs": [],
   "source": [
    "directory = '../data'\n",
    "\n",
    "# Get raw bookings file statistic report\n",
    "data_report = pp.ProfileReport(heart_disease_df)\n",
    "data_report.to_file(output_file='{}/heart_disease_report.html'.format(directory))"
   ]
  },
  {
   "cell_type": "code",
   "execution_count": null,
   "metadata": {},
   "outputs": [],
   "source": [
    "data_report.to_widgets()"
   ]
  },
  {
   "cell_type": "markdown",
   "metadata": {},
   "source": [
    "## Preparing the data"
   ]
  },
  {
   "cell_type": "code",
   "execution_count": null,
   "metadata": {
    "scrolled": false
   },
   "outputs": [],
   "source": [
    "from sklearn.model_selection import train_test_split\n",
    "\n",
    "# X = heart_disease_df[[\n",
    "#     'age', 'sex', 'cp', 'trestbps', 'chol', 'fbs', 'restecg', 'thalach', 'exang', 'oldpeak', 'slope', 'ca', 'thal'\n",
    "# ]]\n",
    "X = heart_disease_df[[ col for col in heart_disease_df.columns if col not in ['num', 'Unnamed: 0']]]\n",
    "y = heart_disease_df['num']\n",
    "\n",
    "\n",
    "X_train, X_test, y_train, y_test = train_test_split(X, y, test_size=0.3, random_state=7)"
   ]
  },
  {
   "cell_type": "code",
   "execution_count": null,
   "metadata": {},
   "outputs": [],
   "source": [
    "display(\n",
    "    [\n",
    "        'X_train: {}'.format(X_train.shape), 'y_train: {}'.format(y_train.shape), \n",
    "        'X_test: {}'.format(X_test.shape), 'y_test: {}'.format(y_test.shape)\n",
    "    ],\n",
    "    X_train.tail(),\n",
    "    y_train.tail()\n",
    ")"
   ]
  },
  {
   "cell_type": "markdown",
   "metadata": {},
   "source": [
    "## Transformation pipeline"
   ]
  },
  {
   "cell_type": "code",
   "execution_count": null,
   "metadata": {},
   "outputs": [],
   "source": []
  }
 ],
 "metadata": {
  "kernelspec": {
   "display_name": "Python 3",
   "language": "python",
   "name": "python3"
  },
  "language_info": {
   "codemirror_mode": {
    "name": "ipython",
    "version": 3
   },
   "file_extension": ".py",
   "mimetype": "text/x-python",
   "name": "python",
   "nbconvert_exporter": "python",
   "pygments_lexer": "ipython3",
   "version": "3.7.6"
  }
 },
 "nbformat": 4,
 "nbformat_minor": 4
}
