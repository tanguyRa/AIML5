{
 "cells": [
  {
   "cell_type": "markdown",
   "metadata": {},
   "source": [
    "# Recommender systems"
   ]
  },
  {
   "cell_type": "code",
   "execution_count": 1,
   "metadata": {},
   "outputs": [
    {
     "name": "stdout",
     "output_type": "stream",
     "text": [
      "WARNING: pip is being invoked by an old script wrapper. This will fail in a future version of pip.\n",
      "Please see https://github.com/pypa/pip/issues/5599 for advice on fixing the underlying issue.\n",
      "To avoid this problem you can invoke Python with '-m pip' instead of running pip directly.\n",
      "Requirement already satisfied: pandas_profiling in /opt/conda/lib/python3.7/site-packages (2.5.0)\n",
      "Requirement already satisfied: missingno==0.4.2 in /opt/conda/lib/python3.7/site-packages (from pandas_profiling) (0.4.2)\n",
      "Requirement already satisfied: confuse==1.0.0 in /opt/conda/lib/python3.7/site-packages (from pandas_profiling) (1.0.0)\n",
      "Requirement already satisfied: pandas==0.25.3 in /opt/conda/lib/python3.7/site-packages (from pandas_profiling) (0.25.3)\n",
      "Requirement already satisfied: jinja2==2.11.1 in /opt/conda/lib/python3.7/site-packages (from pandas_profiling) (2.11.1)\n",
      "Requirement already satisfied: astropy>=3.2.3 in /opt/conda/lib/python3.7/site-packages (from pandas_profiling) (4.0)\n",
      "Requirement already satisfied: tangled-up-in-unicode==0.0.3 in /opt/conda/lib/python3.7/site-packages (from pandas_profiling) (0.0.3)\n",
      "Requirement already satisfied: tqdm==4.42.0 in /opt/conda/lib/python3.7/site-packages (from pandas_profiling) (4.42.0)\n",
      "Requirement already satisfied: kaggle==1.5.6 in /opt/conda/lib/python3.7/site-packages (from pandas_profiling) (1.5.6)\n",
      "Requirement already satisfied: requests==2.22.0 in /opt/conda/lib/python3.7/site-packages (from pandas_profiling) (2.22.0)\n",
      "Requirement already satisfied: htmlmin==0.1.12 in /opt/conda/lib/python3.7/site-packages (from pandas_profiling) (0.1.12)\n",
      "Requirement already satisfied: phik==0.9.9 in /opt/conda/lib/python3.7/site-packages (from pandas_profiling) (0.9.9)\n",
      "Requirement already satisfied: ipywidgets==7.5.1 in /opt/conda/lib/python3.7/site-packages (from pandas_profiling) (7.5.1)\n",
      "Requirement already satisfied: matplotlib>=3.0.3 in /opt/conda/lib/python3.7/site-packages (from pandas_profiling) (3.1.3)\n",
      "Requirement already satisfied: scipy>=1.4.1 in /opt/conda/lib/python3.7/site-packages (from pandas_profiling) (1.4.1)\n",
      "Requirement already satisfied: visions==0.2.2 in /opt/conda/lib/python3.7/site-packages (from pandas_profiling) (0.2.2)\n",
      "Requirement already satisfied: numpy>=1.16.0 in /opt/conda/lib/python3.7/site-packages (from pandas_profiling) (1.18.1)\n",
      "Requirement already satisfied: seaborn in /opt/conda/lib/python3.7/site-packages (from missingno==0.4.2->pandas_profiling) (0.9.0)\n",
      "Requirement already satisfied: pyyaml in /opt/conda/lib/python3.7/site-packages (from confuse==1.0.0->pandas_profiling) (5.3)\n",
      "Requirement already satisfied: pytz>=2017.2 in /opt/conda/lib/python3.7/site-packages (from pandas==0.25.3->pandas_profiling) (2019.3)\n",
      "Requirement already satisfied: python-dateutil>=2.6.1 in /opt/conda/lib/python3.7/site-packages (from pandas==0.25.3->pandas_profiling) (2.8.1)\n",
      "Requirement already satisfied: MarkupSafe>=0.23 in /opt/conda/lib/python3.7/site-packages (from jinja2==2.11.1->pandas_profiling) (1.1.1)\n",
      "Requirement already satisfied: certifi in /opt/conda/lib/python3.7/site-packages (from kaggle==1.5.6->pandas_profiling) (2019.11.28)\n",
      "Requirement already satisfied: python-slugify in /opt/conda/lib/python3.7/site-packages (from kaggle==1.5.6->pandas_profiling) (4.0.0)\n",
      "Requirement already satisfied: six>=1.10 in /opt/conda/lib/python3.7/site-packages (from kaggle==1.5.6->pandas_profiling) (1.14.0)\n",
      "Requirement already satisfied: urllib3<1.25,>=1.21.1 in /opt/conda/lib/python3.7/site-packages (from kaggle==1.5.6->pandas_profiling) (1.24.3)\n",
      "Requirement already satisfied: idna<2.9,>=2.5 in /opt/conda/lib/python3.7/site-packages (from requests==2.22.0->pandas_profiling) (2.8)\n",
      "Requirement already satisfied: chardet<3.1.0,>=3.0.2 in /opt/conda/lib/python3.7/site-packages (from requests==2.22.0->pandas_profiling) (3.0.4)\n",
      "Requirement already satisfied: jupyter-client>=5.2.3 in /opt/conda/lib/python3.7/site-packages (from phik==0.9.9->pandas_profiling) (5.3.4)\n",
      "Requirement already satisfied: pytest-pylint>=0.13.0 in /opt/conda/lib/python3.7/site-packages (from phik==0.9.9->pandas_profiling) (0.15.0)\n",
      "Requirement already satisfied: numba>=0.38.1 in /opt/conda/lib/python3.7/site-packages (from phik==0.9.9->pandas_profiling) (0.48.0)\n",
      "Requirement already satisfied: nbconvert>=5.3.1 in /opt/conda/lib/python3.7/site-packages (from phik==0.9.9->pandas_profiling) (5.6.1)\n",
      "Requirement already satisfied: joblib>=0.14.1 in /opt/conda/lib/python3.7/site-packages (from phik==0.9.9->pandas_profiling) (0.14.1)\n",
      "Requirement already satisfied: pytest>=4.0.2 in /opt/conda/lib/python3.7/site-packages (from phik==0.9.9->pandas_profiling) (5.3.5)\n",
      "Requirement already satisfied: widgetsnbextension~=3.5.0 in /opt/conda/lib/python3.7/site-packages (from ipywidgets==7.5.1->pandas_profiling) (3.5.1)\n",
      "Requirement already satisfied: ipykernel>=4.5.1 in /opt/conda/lib/python3.7/site-packages (from ipywidgets==7.5.1->pandas_profiling) (5.1.4)\n",
      "Requirement already satisfied: nbformat>=4.2.0 in /opt/conda/lib/python3.7/site-packages (from ipywidgets==7.5.1->pandas_profiling) (5.0.4)\n",
      "Requirement already satisfied: ipython>=4.0.0; python_version >= \"3.3\" in /opt/conda/lib/python3.7/site-packages (from ipywidgets==7.5.1->pandas_profiling) (7.11.1)\n",
      "Requirement already satisfied: traitlets>=4.3.1 in /opt/conda/lib/python3.7/site-packages (from ipywidgets==7.5.1->pandas_profiling) (4.3.3)\n",
      "Requirement already satisfied: kiwisolver>=1.0.1 in /opt/conda/lib/python3.7/site-packages (from matplotlib>=3.0.3->pandas_profiling) (1.1.0)\n",
      "Requirement already satisfied: cycler>=0.10 in /opt/conda/lib/python3.7/site-packages (from matplotlib>=3.0.3->pandas_profiling) (0.10.0)\n",
      "Requirement already satisfied: pyparsing!=2.0.4,!=2.1.2,!=2.1.6,>=2.0.1 in /opt/conda/lib/python3.7/site-packages (from matplotlib>=3.0.3->pandas_profiling) (2.4.6)\n",
      "Requirement already satisfied: networkx in /opt/conda/lib/python3.7/site-packages (from visions==0.2.2->pandas_profiling) (2.4)\n",
      "Requirement already satisfied: attr in /opt/conda/lib/python3.7/site-packages (from visions==0.2.2->pandas_profiling) (0.3.1)\n",
      "Requirement already satisfied: text-unidecode>=1.3 in /opt/conda/lib/python3.7/site-packages (from python-slugify->kaggle==1.5.6->pandas_profiling) (1.3)\n",
      "Requirement already satisfied: jupyter-core>=4.6.0 in /opt/conda/lib/python3.7/site-packages (from jupyter-client>=5.2.3->phik==0.9.9->pandas_profiling) (4.6.1)\n",
      "Requirement already satisfied: pyzmq>=13 in /opt/conda/lib/python3.7/site-packages (from jupyter-client>=5.2.3->phik==0.9.9->pandas_profiling) (18.1.1)\n",
      "Requirement already satisfied: tornado>=4.1 in /opt/conda/lib/python3.7/site-packages (from jupyter-client>=5.2.3->phik==0.9.9->pandas_profiling) (6.0.3)\n",
      "Requirement already satisfied: pylint>=2.0.0 in /opt/conda/lib/python3.7/site-packages (from pytest-pylint>=0.13.0->phik==0.9.9->pandas_profiling) (2.4.4)\n",
      "Requirement already satisfied: llvmlite<0.32.0,>=0.31.0dev0 in /opt/conda/lib/python3.7/site-packages (from numba>=0.38.1->phik==0.9.9->pandas_profiling) (0.31.0)\n",
      "Requirement already satisfied: setuptools in /opt/conda/lib/python3.7/site-packages (from numba>=0.38.1->phik==0.9.9->pandas_profiling) (45.1.0.post20200119)\n",
      "Requirement already satisfied: bleach in /opt/conda/lib/python3.7/site-packages (from nbconvert>=5.3.1->phik==0.9.9->pandas_profiling) (3.1.0)\n",
      "Requirement already satisfied: entrypoints>=0.2.2 in /opt/conda/lib/python3.7/site-packages (from nbconvert>=5.3.1->phik==0.9.9->pandas_profiling) (0.3)\n",
      "Requirement already satisfied: testpath in /opt/conda/lib/python3.7/site-packages (from nbconvert>=5.3.1->phik==0.9.9->pandas_profiling) (0.4.4)\n",
      "Requirement already satisfied: pygments in /opt/conda/lib/python3.7/site-packages (from nbconvert>=5.3.1->phik==0.9.9->pandas_profiling) (2.5.2)\n",
      "Requirement already satisfied: pandocfilters>=1.4.1 in /opt/conda/lib/python3.7/site-packages (from nbconvert>=5.3.1->phik==0.9.9->pandas_profiling) (1.4.2)\n",
      "Requirement already satisfied: mistune<2,>=0.8.1 in /opt/conda/lib/python3.7/site-packages (from nbconvert>=5.3.1->phik==0.9.9->pandas_profiling) (0.8.4)\n",
      "Requirement already satisfied: defusedxml in /opt/conda/lib/python3.7/site-packages (from nbconvert>=5.3.1->phik==0.9.9->pandas_profiling) (0.6.0)\n",
      "Requirement already satisfied: more-itertools>=4.0.0 in /opt/conda/lib/python3.7/site-packages (from pytest>=4.0.2->phik==0.9.9->pandas_profiling) (8.2.0)\n",
      "Requirement already satisfied: importlib-metadata>=0.12; python_version < \"3.8\" in /opt/conda/lib/python3.7/site-packages (from pytest>=4.0.2->phik==0.9.9->pandas_profiling) (1.5.0)\n",
      "Requirement already satisfied: pluggy<1.0,>=0.12 in /opt/conda/lib/python3.7/site-packages (from pytest>=4.0.2->phik==0.9.9->pandas_profiling) (0.13.1)\n",
      "Requirement already satisfied: attrs>=17.4.0 in /opt/conda/lib/python3.7/site-packages (from pytest>=4.0.2->phik==0.9.9->pandas_profiling) (19.3.0)\n"
     ]
    },
    {
     "name": "stdout",
     "output_type": "stream",
     "text": [
      "Requirement already satisfied: py>=1.5.0 in /opt/conda/lib/python3.7/site-packages (from pytest>=4.0.2->phik==0.9.9->pandas_profiling) (1.8.1)\n",
      "Requirement already satisfied: wcwidth in /opt/conda/lib/python3.7/site-packages (from pytest>=4.0.2->phik==0.9.9->pandas_profiling) (0.1.8)\n",
      "Requirement already satisfied: packaging in /opt/conda/lib/python3.7/site-packages (from pytest>=4.0.2->phik==0.9.9->pandas_profiling) (20.1)\n",
      "Requirement already satisfied: notebook>=4.4.1 in /opt/conda/lib/python3.7/site-packages (from widgetsnbextension~=3.5.0->ipywidgets==7.5.1->pandas_profiling) (6.0.3)\n",
      "Requirement already satisfied: ipython-genutils in /opt/conda/lib/python3.7/site-packages (from nbformat>=4.2.0->ipywidgets==7.5.1->pandas_profiling) (0.2.0)\n",
      "Requirement already satisfied: jsonschema!=2.5.0,>=2.4 in /opt/conda/lib/python3.7/site-packages (from nbformat>=4.2.0->ipywidgets==7.5.1->pandas_profiling) (3.2.0)\n",
      "Requirement already satisfied: prompt-toolkit!=3.0.0,!=3.0.1,<3.1.0,>=2.0.0 in /opt/conda/lib/python3.7/site-packages (from ipython>=4.0.0; python_version >= \"3.3\"->ipywidgets==7.5.1->pandas_profiling) (3.0.3)\n",
      "Requirement already satisfied: jedi>=0.10 in /opt/conda/lib/python3.7/site-packages (from ipython>=4.0.0; python_version >= \"3.3\"->ipywidgets==7.5.1->pandas_profiling) (0.16.0)\n",
      "Requirement already satisfied: backcall in /opt/conda/lib/python3.7/site-packages (from ipython>=4.0.0; python_version >= \"3.3\"->ipywidgets==7.5.1->pandas_profiling) (0.1.0)\n",
      "Requirement already satisfied: pexpect; sys_platform != \"win32\" in /opt/conda/lib/python3.7/site-packages (from ipython>=4.0.0; python_version >= \"3.3\"->ipywidgets==7.5.1->pandas_profiling) (4.8.0)\n",
      "Requirement already satisfied: pickleshare in /opt/conda/lib/python3.7/site-packages (from ipython>=4.0.0; python_version >= \"3.3\"->ipywidgets==7.5.1->pandas_profiling) (0.7.5)\n",
      "Requirement already satisfied: decorator in /opt/conda/lib/python3.7/site-packages (from ipython>=4.0.0; python_version >= \"3.3\"->ipywidgets==7.5.1->pandas_profiling) (4.4.1)\n",
      "Requirement already satisfied: mccabe<0.7,>=0.6 in /opt/conda/lib/python3.7/site-packages (from pylint>=2.0.0->pytest-pylint>=0.13.0->phik==0.9.9->pandas_profiling) (0.6.1)\n",
      "Requirement already satisfied: astroid<2.4,>=2.3.0 in /opt/conda/lib/python3.7/site-packages (from pylint>=2.0.0->pytest-pylint>=0.13.0->phik==0.9.9->pandas_profiling) (2.3.3)\n",
      "Requirement already satisfied: isort<5,>=4.2.5 in /opt/conda/lib/python3.7/site-packages (from pylint>=2.0.0->pytest-pylint>=0.13.0->phik==0.9.9->pandas_profiling) (4.3.21)\n",
      "Requirement already satisfied: webencodings in /opt/conda/lib/python3.7/site-packages (from bleach->nbconvert>=5.3.1->phik==0.9.9->pandas_profiling) (0.5.1)\n",
      "Requirement already satisfied: zipp>=0.5 in /opt/conda/lib/python3.7/site-packages (from importlib-metadata>=0.12; python_version < \"3.8\"->pytest>=4.0.2->phik==0.9.9->pandas_profiling) (2.1.0)\n",
      "Requirement already satisfied: Send2Trash in /opt/conda/lib/python3.7/site-packages (from notebook>=4.4.1->widgetsnbextension~=3.5.0->ipywidgets==7.5.1->pandas_profiling) (1.5.0)\n",
      "Requirement already satisfied: terminado>=0.8.1 in /opt/conda/lib/python3.7/site-packages (from notebook>=4.4.1->widgetsnbextension~=3.5.0->ipywidgets==7.5.1->pandas_profiling) (0.8.3)\n",
      "Requirement already satisfied: prometheus-client in /opt/conda/lib/python3.7/site-packages (from notebook>=4.4.1->widgetsnbextension~=3.5.0->ipywidgets==7.5.1->pandas_profiling) (0.7.1)\n",
      "Requirement already satisfied: pyrsistent>=0.14.0 in /opt/conda/lib/python3.7/site-packages (from jsonschema!=2.5.0,>=2.4->nbformat>=4.2.0->ipywidgets==7.5.1->pandas_profiling) (0.15.7)\n",
      "Requirement already satisfied: parso>=0.5.2 in /opt/conda/lib/python3.7/site-packages (from jedi>=0.10->ipython>=4.0.0; python_version >= \"3.3\"->ipywidgets==7.5.1->pandas_profiling) (0.6.0)\n",
      "Requirement already satisfied: ptyprocess>=0.5 in /opt/conda/lib/python3.7/site-packages (from pexpect; sys_platform != \"win32\"->ipython>=4.0.0; python_version >= \"3.3\"->ipywidgets==7.5.1->pandas_profiling) (0.6.0)\n",
      "Requirement already satisfied: lazy-object-proxy==1.4.* in /opt/conda/lib/python3.7/site-packages (from astroid<2.4,>=2.3.0->pylint>=2.0.0->pytest-pylint>=0.13.0->phik==0.9.9->pandas_profiling) (1.4.3)\n",
      "Requirement already satisfied: wrapt==1.11.* in /opt/conda/lib/python3.7/site-packages (from astroid<2.4,>=2.3.0->pylint>=2.0.0->pytest-pylint>=0.13.0->phik==0.9.9->pandas_profiling) (1.11.2)\n",
      "Requirement already satisfied: typed-ast<1.5,>=1.4.0; implementation_name == \"cpython\" and python_version < \"3.8\" in /opt/conda/lib/python3.7/site-packages (from astroid<2.4,>=2.3.0->pylint>=2.0.0->pytest-pylint>=0.13.0->phik==0.9.9->pandas_profiling) (1.4.1)\n"
     ]
    }
   ],
   "source": [
    "# Data manipulation:\n",
    "import pandas as pd\n",
    "import numpy as np\n",
    "\n",
    "# Data exploration:\n",
    "!pip install pandas_profiling\n",
    "import pandas_profiling as pp\n",
    "\n",
    "# sklearn\n",
    "from sklearn.impute import SimpleImputer\n",
    "from sklearn.neighbors import NearestNeighbors"
   ]
  },
  {
   "cell_type": "markdown",
   "metadata": {},
   "source": [
    "# Exploring the data"
   ]
  },
  {
   "cell_type": "markdown",
   "metadata": {},
   "source": [
    "Download the [data](https://canvas.supinfo.com/courses/85/files/11364) or find it on [kaggle](https://www.kaggle.com/orgesleka/imdbmovies)'s website and save it under ./data of your current directory on your host. (/home/jovyan/data in the docker container)"
   ]
  },
  {
   "cell_type": "code",
   "execution_count": 2,
   "metadata": {},
   "outputs": [],
   "source": [
    "directory = '../data'\n",
    "\n",
    "imdb_df = pd.read_csv('{}/imdb.csv'.format(directory), escapechar='\\\\')"
   ]
  },
  {
   "cell_type": "code",
   "execution_count": 3,
   "metadata": {
    "scrolled": true
   },
   "outputs": [
    {
     "data": {
      "application/vnd.jupyter.widget-view+json": {
       "model_id": "597cd11b4e6b4fd488800f062a222b58",
       "version_major": 2,
       "version_minor": 0
      },
      "text/plain": [
       "HBox(children=(FloatProgress(value=0.0, description='variables', max=44.0, style=ProgressStyle(description_wid…"
      ]
     },
     "metadata": {},
     "output_type": "display_data"
    },
    {
     "name": "stdout",
     "output_type": "stream",
     "text": [
      "\n"
     ]
    },
    {
     "data": {
      "application/vnd.jupyter.widget-view+json": {
       "model_id": "73d7caed0db1417a85019f94c35b566c",
       "version_major": 2,
       "version_minor": 0
      },
      "text/plain": [
       "HBox(children=(FloatProgress(value=0.0, description='correlations', max=6.0, style=ProgressStyle(description_w…"
      ]
     },
     "metadata": {},
     "output_type": "display_data"
    },
    {
     "name": "stdout",
     "output_type": "stream",
     "text": [
      "\n"
     ]
    },
    {
     "data": {
      "application/vnd.jupyter.widget-view+json": {
       "model_id": "b0550e1914ea4f36ad5a1278d0336e8f",
       "version_major": 2,
       "version_minor": 0
      },
      "text/plain": [
       "HBox(children=(FloatProgress(value=0.0, description='interactions [continuous]', max=81.0, style=ProgressStyle…"
      ]
     },
     "metadata": {},
     "output_type": "display_data"
    },
    {
     "name": "stdout",
     "output_type": "stream",
     "text": [
      "\n"
     ]
    },
    {
     "data": {
      "application/vnd.jupyter.widget-view+json": {
       "model_id": "b490a85a8d5a40bd864d0a7f02f2dad5",
       "version_major": 2,
       "version_minor": 0
      },
      "text/plain": [
       "HBox(children=(FloatProgress(value=0.0, description='table', max=1.0, style=ProgressStyle(description_width='i…"
      ]
     },
     "metadata": {},
     "output_type": "display_data"
    },
    {
     "name": "stdout",
     "output_type": "stream",
     "text": [
      "\n"
     ]
    },
    {
     "data": {
      "application/vnd.jupyter.widget-view+json": {
       "model_id": "5f22a87594914dd9ad106af69261f2f0",
       "version_major": 2,
       "version_minor": 0
      },
      "text/plain": [
       "HBox(children=(FloatProgress(value=0.0, description='missing', max=4.0, style=ProgressStyle(description_width=…"
      ]
     },
     "metadata": {},
     "output_type": "display_data"
    },
    {
     "name": "stdout",
     "output_type": "stream",
     "text": [
      "\n"
     ]
    },
    {
     "data": {
      "application/vnd.jupyter.widget-view+json": {
       "model_id": "c5023bc0caaa4551b806e71d5355c0cd",
       "version_major": 2,
       "version_minor": 0
      },
      "text/plain": [
       "HBox(children=(FloatProgress(value=0.0, description='warnings', max=3.0, style=ProgressStyle(description_width…"
      ]
     },
     "metadata": {},
     "output_type": "display_data"
    },
    {
     "name": "stdout",
     "output_type": "stream",
     "text": [
      "\n"
     ]
    },
    {
     "data": {
      "application/vnd.jupyter.widget-view+json": {
       "model_id": "84217091dc6e4dd892c02a2e477488bd",
       "version_major": 2,
       "version_minor": 0
      },
      "text/plain": [
       "HBox(children=(FloatProgress(value=0.0, description='package', max=1.0, style=ProgressStyle(description_width=…"
      ]
     },
     "metadata": {},
     "output_type": "display_data"
    },
    {
     "name": "stdout",
     "output_type": "stream",
     "text": [
      "\n"
     ]
    },
    {
     "data": {
      "application/vnd.jupyter.widget-view+json": {
       "model_id": "336e2b4991a14c57ab8b54592d96adcb",
       "version_major": 2,
       "version_minor": 0
      },
      "text/plain": [
       "HBox(children=(FloatProgress(value=0.0, description='build report structure', max=1.0, style=ProgressStyle(des…"
      ]
     },
     "metadata": {},
     "output_type": "display_data"
    },
    {
     "name": "stdout",
     "output_type": "stream",
     "text": [
      "\n"
     ]
    }
   ],
   "source": [
    "data_report = pp.ProfileReport(imdb_df)\n",
    "data_report.to_file(output_file='{}/imdb_report.html'.format(directory))"
   ]
  },
  {
   "cell_type": "code",
   "execution_count": 4,
   "metadata": {},
   "outputs": [
    {
     "data": {
      "application/vnd.jupyter.widget-view+json": {
       "model_id": "7a77e5831476412e9832ac67b138223d",
       "version_major": 2,
       "version_minor": 0
      },
      "text/plain": [
       "Tab(children=(Tab(children=(GridBox(children=(VBox(children=(GridspecLayout(children=(HTML(value='Number of va…"
      ]
     },
     "metadata": {},
     "output_type": "display_data"
    },
    {
     "data": {
      "text/html": [
       "Report generated with <a href=\"https://github.com/pandas-profiling/pandas-profiling\">pandas-profiling</a>."
      ],
      "text/plain": [
       "<IPython.core.display.HTML object>"
      ]
     },
     "metadata": {},
     "output_type": "display_data"
    }
   ],
   "source": [
    "data_report.to_widgets()"
   ]
  },
  {
   "cell_type": "markdown",
   "metadata": {},
   "source": [
    "# Simple content based recommender system using [KNN](https://scikit-learn.org/stable/modules/neighbors.html)"
   ]
  },
  {
   "cell_type": "code",
   "execution_count": 5,
   "metadata": {},
   "outputs": [],
   "source": [
    "# embeddings = get_embeddings(words)\n",
    "X_df = pd.get_dummies(imdb_df[[\n",
    "    'imdbRating',\n",
    "    'ratingCount',\n",
    "    'duration',\n",
    "    'year',\n",
    "    'type',\n",
    "    'nrOfWins',\n",
    "    'nrOfNominations',\n",
    "    'nrOfPhotos',\n",
    "    'nrOfNewsArticles',\n",
    "    'nrOfUserReviews',\n",
    "    'nrOfGenre',\n",
    "    'Action',\n",
    "    'Adult',\n",
    "    'Adventure',\n",
    "    'Animation',\n",
    "    'Biography',\n",
    "    'Comedy',\n",
    "    'Crime',\n",
    "    'Documentary',\n",
    "    'Drama',\n",
    "    'Family',\n",
    "    'Fantasy',\n",
    "    'FilmNoir',\n",
    "    'GameShow',\n",
    "    'History',\n",
    "    'Horror',\n",
    "    'Music',\n",
    "    'Musical',\n",
    "    'Mystery',\n",
    "    'News',\n",
    "    'RealityTV',\n",
    "    'Romance',\n",
    "    'SciFi',\n",
    "    'Short',\n",
    "    'Sport',\n",
    "    'TalkShow',\n",
    "    'Thriller',\n",
    "    'War',\n",
    "    'Western'\n",
    "]])\n",
    "imp_mean = SimpleImputer(missing_values=np.nan, strategy='mean')\n",
    "\n",
    "X = imp_mean.fit_transform(X_df)"
   ]
  },
  {
   "cell_type": "code",
   "execution_count": 6,
   "metadata": {},
   "outputs": [],
   "source": [
    "tree = NearestNeighbors(\n",
    "    n_neighbors=30, \n",
    "    algorithm='brute',\n",
    "    metric= 'cosine'\n",
    ")"
   ]
  },
  {
   "cell_type": "code",
   "execution_count": 7,
   "metadata": {
    "scrolled": true
   },
   "outputs": [
    {
     "data": {
      "text/plain": [
       "NearestNeighbors(algorithm='brute', leaf_size=30, metric='cosine',\n",
       "                 metric_params=None, n_jobs=None, n_neighbors=30, p=2,\n",
       "                 radius=1.0)"
      ]
     },
     "execution_count": 7,
     "metadata": {},
     "output_type": "execute_result"
    }
   ],
   "source": [
    "tree.fit(X)"
   ]
  },
  {
   "cell_type": "code",
   "execution_count": 8,
   "metadata": {},
   "outputs": [
    {
     "data": {
      "text/html": [
       "<div>\n",
       "<style scoped>\n",
       "    .dataframe tbody tr th:only-of-type {\n",
       "        vertical-align: middle;\n",
       "    }\n",
       "\n",
       "    .dataframe tbody tr th {\n",
       "        vertical-align: top;\n",
       "    }\n",
       "\n",
       "    .dataframe thead th {\n",
       "        text-align: right;\n",
       "    }\n",
       "</style>\n",
       "<table border=\"1\" class=\"dataframe\">\n",
       "  <thead>\n",
       "    <tr style=\"text-align: right;\">\n",
       "      <th></th>\n",
       "      <th>fn</th>\n",
       "      <th>tid</th>\n",
       "      <th>title</th>\n",
       "      <th>wordsInTitle</th>\n",
       "      <th>url</th>\n",
       "      <th>imdbRating</th>\n",
       "      <th>ratingCount</th>\n",
       "      <th>duration</th>\n",
       "      <th>year</th>\n",
       "      <th>type</th>\n",
       "      <th>...</th>\n",
       "      <th>News</th>\n",
       "      <th>RealityTV</th>\n",
       "      <th>Romance</th>\n",
       "      <th>SciFi</th>\n",
       "      <th>Short</th>\n",
       "      <th>Sport</th>\n",
       "      <th>TalkShow</th>\n",
       "      <th>Thriller</th>\n",
       "      <th>War</th>\n",
       "      <th>Western</th>\n",
       "    </tr>\n",
       "  </thead>\n",
       "  <tbody>\n",
       "    <tr>\n",
       "      <th>166</th>\n",
       "      <td>titles01/tt0133093</td>\n",
       "      <td>tt0133093</td>\n",
       "      <td>Matrix (1999)</td>\n",
       "      <td>matrix</td>\n",
       "      <td>http://www.imdb.com/title/tt0133093/</td>\n",
       "      <td>8.7</td>\n",
       "      <td>841150.0</td>\n",
       "      <td>8160.0</td>\n",
       "      <td>1999.0</td>\n",
       "      <td>video.movie</td>\n",
       "      <td>...</td>\n",
       "      <td>0</td>\n",
       "      <td>0</td>\n",
       "      <td>0</td>\n",
       "      <td>1</td>\n",
       "      <td>0</td>\n",
       "      <td>0</td>\n",
       "      <td>0</td>\n",
       "      <td>0</td>\n",
       "      <td>0</td>\n",
       "      <td>0</td>\n",
       "    </tr>\n",
       "    <tr>\n",
       "      <th>837</th>\n",
       "      <td>titles02/index.html.2766</td>\n",
       "      <td>tt0234215</td>\n",
       "      <td>Matrix Reloaded (2003)</td>\n",
       "      <td>matrix reloaded</td>\n",
       "      <td>http://www.imdb.com/title/tt0234215/</td>\n",
       "      <td>7.2</td>\n",
       "      <td>333743.0</td>\n",
       "      <td>8280.0</td>\n",
       "      <td>2003.0</td>\n",
       "      <td>video.movie</td>\n",
       "      <td>...</td>\n",
       "      <td>0</td>\n",
       "      <td>0</td>\n",
       "      <td>0</td>\n",
       "      <td>1</td>\n",
       "      <td>0</td>\n",
       "      <td>0</td>\n",
       "      <td>0</td>\n",
       "      <td>0</td>\n",
       "      <td>0</td>\n",
       "      <td>0</td>\n",
       "    </tr>\n",
       "    <tr>\n",
       "      <th>841</th>\n",
       "      <td>titles02/index.html.2770</td>\n",
       "      <td>tt0242653</td>\n",
       "      <td>Matrix Revolutions (2003)</td>\n",
       "      <td>matrix revolutions</td>\n",
       "      <td>http://www.imdb.com/title/tt0242653/</td>\n",
       "      <td>6.7</td>\n",
       "      <td>288612.0</td>\n",
       "      <td>7740.0</td>\n",
       "      <td>2003.0</td>\n",
       "      <td>video.movie</td>\n",
       "      <td>...</td>\n",
       "      <td>0</td>\n",
       "      <td>0</td>\n",
       "      <td>0</td>\n",
       "      <td>1</td>\n",
       "      <td>0</td>\n",
       "      <td>0</td>\n",
       "      <td>0</td>\n",
       "      <td>0</td>\n",
       "      <td>0</td>\n",
       "      <td>0</td>\n",
       "    </tr>\n",
       "    <tr>\n",
       "      <th>4604</th>\n",
       "      <td>titles03/index.html.4587</td>\n",
       "      <td>tt0594932</td>\n",
       "      <td>HBO First Look The Matrix Revolutions (TV Epis...</td>\n",
       "      <td>hbo first look the matrix revolutions tv episode</td>\n",
       "      <td>http://www.imdb.com/title/tt0594932/</td>\n",
       "      <td>7.3</td>\n",
       "      <td>10.0</td>\n",
       "      <td>780.0</td>\n",
       "      <td>2003.0</td>\n",
       "      <td>video.episode</td>\n",
       "      <td>...</td>\n",
       "      <td>0</td>\n",
       "      <td>0</td>\n",
       "      <td>0</td>\n",
       "      <td>0</td>\n",
       "      <td>0</td>\n",
       "      <td>0</td>\n",
       "      <td>0</td>\n",
       "      <td>0</td>\n",
       "      <td>0</td>\n",
       "      <td>0</td>\n",
       "    </tr>\n",
       "    <tr>\n",
       "      <th>13240</th>\n",
       "      <td>titles04/index.html.7348</td>\n",
       "      <td>tt0274085</td>\n",
       "      <td>Sex and the Matrix (TV Short 2000)</td>\n",
       "      <td>sex and the matrix tv short</td>\n",
       "      <td>http://www.imdb.com/title/tt0274085/</td>\n",
       "      <td>7.2</td>\n",
       "      <td>714.0</td>\n",
       "      <td>360.0</td>\n",
       "      <td>2000.0</td>\n",
       "      <td>video.tv</td>\n",
       "      <td>...</td>\n",
       "      <td>0</td>\n",
       "      <td>0</td>\n",
       "      <td>0</td>\n",
       "      <td>0</td>\n",
       "      <td>1</td>\n",
       "      <td>0</td>\n",
       "      <td>0</td>\n",
       "      <td>0</td>\n",
       "      <td>0</td>\n",
       "      <td>0</td>\n",
       "    </tr>\n",
       "    <tr>\n",
       "      <th>13803</th>\n",
       "      <td>titles04/index.html.8294</td>\n",
       "      <td>tt0365467</td>\n",
       "      <td>Making 'The Matrix' (TV Movie 1999)</td>\n",
       "      <td>making the matrix tv movie</td>\n",
       "      <td>http://www.imdb.com/title/tt0365467/</td>\n",
       "      <td>6.8</td>\n",
       "      <td>169.0</td>\n",
       "      <td>1560.0</td>\n",
       "      <td>1999.0</td>\n",
       "      <td>video.movie</td>\n",
       "      <td>...</td>\n",
       "      <td>0</td>\n",
       "      <td>0</td>\n",
       "      <td>0</td>\n",
       "      <td>1</td>\n",
       "      <td>1</td>\n",
       "      <td>0</td>\n",
       "      <td>0</td>\n",
       "      <td>0</td>\n",
       "      <td>0</td>\n",
       "      <td>0</td>\n",
       "    </tr>\n",
       "  </tbody>\n",
       "</table>\n",
       "<p>6 rows × 44 columns</p>\n",
       "</div>"
      ],
      "text/plain": [
       "                             fn        tid  \\\n",
       "166          titles01/tt0133093  tt0133093   \n",
       "837    titles02/index.html.2766  tt0234215   \n",
       "841    titles02/index.html.2770  tt0242653   \n",
       "4604   titles03/index.html.4587  tt0594932   \n",
       "13240  titles04/index.html.7348  tt0274085   \n",
       "13803  titles04/index.html.8294  tt0365467   \n",
       "\n",
       "                                                   title  \\\n",
       "166                                        Matrix (1999)   \n",
       "837                               Matrix Reloaded (2003)   \n",
       "841                            Matrix Revolutions (2003)   \n",
       "4604   HBO First Look The Matrix Revolutions (TV Epis...   \n",
       "13240                 Sex and the Matrix (TV Short 2000)   \n",
       "13803                Making 'The Matrix' (TV Movie 1999)   \n",
       "\n",
       "                                           wordsInTitle  \\\n",
       "166                                              matrix   \n",
       "837                                     matrix reloaded   \n",
       "841                                  matrix revolutions   \n",
       "4604   hbo first look the matrix revolutions tv episode   \n",
       "13240                       sex and the matrix tv short   \n",
       "13803                        making the matrix tv movie   \n",
       "\n",
       "                                        url  imdbRating  ratingCount  \\\n",
       "166    http://www.imdb.com/title/tt0133093/         8.7     841150.0   \n",
       "837    http://www.imdb.com/title/tt0234215/         7.2     333743.0   \n",
       "841    http://www.imdb.com/title/tt0242653/         6.7     288612.0   \n",
       "4604   http://www.imdb.com/title/tt0594932/         7.3         10.0   \n",
       "13240  http://www.imdb.com/title/tt0274085/         7.2        714.0   \n",
       "13803  http://www.imdb.com/title/tt0365467/         6.8        169.0   \n",
       "\n",
       "       duration    year           type  ...  News  RealityTV  Romance  SciFi  \\\n",
       "166      8160.0  1999.0    video.movie  ...     0          0        0      1   \n",
       "837      8280.0  2003.0    video.movie  ...     0          0        0      1   \n",
       "841      7740.0  2003.0    video.movie  ...     0          0        0      1   \n",
       "4604      780.0  2003.0  video.episode  ...     0          0        0      0   \n",
       "13240     360.0  2000.0       video.tv  ...     0          0        0      0   \n",
       "13803    1560.0  1999.0    video.movie  ...     0          0        0      1   \n",
       "\n",
       "       Short  Sport  TalkShow  Thriller  War  Western  \n",
       "166        0      0         0         0    0        0  \n",
       "837        0      0         0         0    0        0  \n",
       "841        0      0         0         0    0        0  \n",
       "4604       0      0         0         0    0        0  \n",
       "13240      1      0         0         0    0        0  \n",
       "13803      1      0         0         0    0        0  \n",
       "\n",
       "[6 rows x 44 columns]"
      ]
     },
     "execution_count": 8,
     "metadata": {},
     "output_type": "execute_result"
    }
   ],
   "source": [
    "imdb_df[imdb_df['title'].str.contains('Matrix')]"
   ]
  },
  {
   "cell_type": "code",
   "execution_count": 9,
   "metadata": {},
   "outputs": [],
   "source": [
    "movie_of_interest = X[166]\n",
    "\n",
    "\n",
    "distances, neighbors = tree.kneighbors([movie_of_interest], 5)"
   ]
  },
  {
   "cell_type": "code",
   "execution_count": 10,
   "metadata": {},
   "outputs": [
    {
     "data": {
      "text/plain": [
       "array([166, 167, 178, 136, 139])"
      ]
     },
     "metadata": {},
     "output_type": "display_data"
    }
   ],
   "source": [
    "display(neighbors[0])"
   ]
  },
  {
   "cell_type": "code",
   "execution_count": 11,
   "metadata": {
    "scrolled": false
   },
   "outputs": [
    {
     "data": {
      "text/html": [
       "<div>\n",
       "<style scoped>\n",
       "    .dataframe tbody tr th:only-of-type {\n",
       "        vertical-align: middle;\n",
       "    }\n",
       "\n",
       "    .dataframe tbody tr th {\n",
       "        vertical-align: top;\n",
       "    }\n",
       "\n",
       "    .dataframe thead th {\n",
       "        text-align: right;\n",
       "    }\n",
       "</style>\n",
       "<table border=\"1\" class=\"dataframe\">\n",
       "  <thead>\n",
       "    <tr style=\"text-align: right;\">\n",
       "      <th></th>\n",
       "      <th>fn</th>\n",
       "      <th>tid</th>\n",
       "      <th>title</th>\n",
       "      <th>wordsInTitle</th>\n",
       "      <th>url</th>\n",
       "      <th>imdbRating</th>\n",
       "      <th>ratingCount</th>\n",
       "      <th>duration</th>\n",
       "      <th>year</th>\n",
       "      <th>type</th>\n",
       "      <th>...</th>\n",
       "      <th>News</th>\n",
       "      <th>RealityTV</th>\n",
       "      <th>Romance</th>\n",
       "      <th>SciFi</th>\n",
       "      <th>Short</th>\n",
       "      <th>Sport</th>\n",
       "      <th>TalkShow</th>\n",
       "      <th>Thriller</th>\n",
       "      <th>War</th>\n",
       "      <th>Western</th>\n",
       "    </tr>\n",
       "  </thead>\n",
       "  <tbody>\n",
       "    <tr>\n",
       "      <th>166</th>\n",
       "      <td>titles01/tt0133093</td>\n",
       "      <td>tt0133093</td>\n",
       "      <td>Matrix (1999)</td>\n",
       "      <td>matrix</td>\n",
       "      <td>http://www.imdb.com/title/tt0133093/</td>\n",
       "      <td>8.7</td>\n",
       "      <td>841150.0</td>\n",
       "      <td>8160.0</td>\n",
       "      <td>1999.0</td>\n",
       "      <td>video.movie</td>\n",
       "      <td>...</td>\n",
       "      <td>0</td>\n",
       "      <td>0</td>\n",
       "      <td>0</td>\n",
       "      <td>1</td>\n",
       "      <td>0</td>\n",
       "      <td>0</td>\n",
       "      <td>0</td>\n",
       "      <td>0</td>\n",
       "      <td>0</td>\n",
       "      <td>0</td>\n",
       "    </tr>\n",
       "    <tr>\n",
       "      <th>167</th>\n",
       "      <td>titles01/tt0137523</td>\n",
       "      <td>tt0137523</td>\n",
       "      <td>Fight Club (1999)</td>\n",
       "      <td>fight club</td>\n",
       "      <td>http://www.imdb.com/title/tt0137523/</td>\n",
       "      <td>8.9</td>\n",
       "      <td>900388.0</td>\n",
       "      <td>8340.0</td>\n",
       "      <td>1999.0</td>\n",
       "      <td>video.movie</td>\n",
       "      <td>...</td>\n",
       "      <td>0</td>\n",
       "      <td>0</td>\n",
       "      <td>0</td>\n",
       "      <td>0</td>\n",
       "      <td>0</td>\n",
       "      <td>0</td>\n",
       "      <td>0</td>\n",
       "      <td>0</td>\n",
       "      <td>0</td>\n",
       "      <td>0</td>\n",
       "    </tr>\n",
       "    <tr>\n",
       "      <th>178</th>\n",
       "      <td>titles01/tt0209144</td>\n",
       "      <td>tt0209144</td>\n",
       "      <td>Memento (2000)</td>\n",
       "      <td>memento</td>\n",
       "      <td>http://www.imdb.com/title/tt0209144/</td>\n",
       "      <td>8.6</td>\n",
       "      <td>605480.0</td>\n",
       "      <td>6780.0</td>\n",
       "      <td>2000.0</td>\n",
       "      <td>video.movie</td>\n",
       "      <td>...</td>\n",
       "      <td>0</td>\n",
       "      <td>0</td>\n",
       "      <td>0</td>\n",
       "      <td>0</td>\n",
       "      <td>0</td>\n",
       "      <td>0</td>\n",
       "      <td>0</td>\n",
       "      <td>1</td>\n",
       "      <td>0</td>\n",
       "      <td>0</td>\n",
       "    </tr>\n",
       "    <tr>\n",
       "      <th>136</th>\n",
       "      <td>titles01/tt0109830</td>\n",
       "      <td>tt0109830</td>\n",
       "      <td>Forrest Gump (1994)</td>\n",
       "      <td>forrest gump</td>\n",
       "      <td>http://www.imdb.com/title/tt0109830/</td>\n",
       "      <td>8.8</td>\n",
       "      <td>799314.0</td>\n",
       "      <td>8520.0</td>\n",
       "      <td>1994.0</td>\n",
       "      <td>video.movie</td>\n",
       "      <td>...</td>\n",
       "      <td>0</td>\n",
       "      <td>0</td>\n",
       "      <td>1</td>\n",
       "      <td>0</td>\n",
       "      <td>0</td>\n",
       "      <td>0</td>\n",
       "      <td>0</td>\n",
       "      <td>0</td>\n",
       "      <td>0</td>\n",
       "      <td>0</td>\n",
       "    </tr>\n",
       "    <tr>\n",
       "      <th>139</th>\n",
       "      <td>titles01/tt0110912</td>\n",
       "      <td>tt0110912</td>\n",
       "      <td>Pulp Fiction (1994)</td>\n",
       "      <td>pulp fiction</td>\n",
       "      <td>http://www.imdb.com/title/tt0110912/</td>\n",
       "      <td>9.0</td>\n",
       "      <td>911042.0</td>\n",
       "      <td>9240.0</td>\n",
       "      <td>1994.0</td>\n",
       "      <td>video.movie</td>\n",
       "      <td>...</td>\n",
       "      <td>0</td>\n",
       "      <td>0</td>\n",
       "      <td>0</td>\n",
       "      <td>0</td>\n",
       "      <td>0</td>\n",
       "      <td>0</td>\n",
       "      <td>0</td>\n",
       "      <td>1</td>\n",
       "      <td>0</td>\n",
       "      <td>0</td>\n",
       "    </tr>\n",
       "  </tbody>\n",
       "</table>\n",
       "<p>5 rows × 44 columns</p>\n",
       "</div>"
      ],
      "text/plain": [
       "                     fn        tid                title  wordsInTitle  \\\n",
       "166  titles01/tt0133093  tt0133093        Matrix (1999)        matrix   \n",
       "167  titles01/tt0137523  tt0137523    Fight Club (1999)    fight club   \n",
       "178  titles01/tt0209144  tt0209144       Memento (2000)       memento   \n",
       "136  titles01/tt0109830  tt0109830  Forrest Gump (1994)  forrest gump   \n",
       "139  titles01/tt0110912  tt0110912  Pulp Fiction (1994)  pulp fiction   \n",
       "\n",
       "                                      url  imdbRating  ratingCount  duration  \\\n",
       "166  http://www.imdb.com/title/tt0133093/         8.7     841150.0    8160.0   \n",
       "167  http://www.imdb.com/title/tt0137523/         8.9     900388.0    8340.0   \n",
       "178  http://www.imdb.com/title/tt0209144/         8.6     605480.0    6780.0   \n",
       "136  http://www.imdb.com/title/tt0109830/         8.8     799314.0    8520.0   \n",
       "139  http://www.imdb.com/title/tt0110912/         9.0     911042.0    9240.0   \n",
       "\n",
       "       year         type  ...  News  RealityTV  Romance  SciFi  Short  Sport  \\\n",
       "166  1999.0  video.movie  ...     0          0        0      1      0      0   \n",
       "167  1999.0  video.movie  ...     0          0        0      0      0      0   \n",
       "178  2000.0  video.movie  ...     0          0        0      0      0      0   \n",
       "136  1994.0  video.movie  ...     0          0        1      0      0      0   \n",
       "139  1994.0  video.movie  ...     0          0        0      0      0      0   \n",
       "\n",
       "     TalkShow  Thriller  War  Western  \n",
       "166         0         0    0        0  \n",
       "167         0         0    0        0  \n",
       "178         0         1    0        0  \n",
       "136         0         0    0        0  \n",
       "139         0         1    0        0  \n",
       "\n",
       "[5 rows x 44 columns]"
      ]
     },
     "metadata": {},
     "output_type": "display_data"
    }
   ],
   "source": [
    "display(imdb_df.iloc[neighbors[0]])"
   ]
  },
  {
   "cell_type": "code",
   "execution_count": null,
   "metadata": {},
   "outputs": [],
   "source": []
  }
 ],
 "metadata": {
  "kernelspec": {
   "display_name": "Python 3",
   "language": "python",
   "name": "python3"
  },
  "language_info": {
   "codemirror_mode": {
    "name": "ipython",
    "version": 3
   },
   "file_extension": ".py",
   "mimetype": "text/x-python",
   "name": "python",
   "nbconvert_exporter": "python",
   "pygments_lexer": "ipython3",
   "version": "3.7.6"
  }
 },
 "nbformat": 4,
 "nbformat_minor": 4
}
